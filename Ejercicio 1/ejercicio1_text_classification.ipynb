{
 "cells": [
  {
   "cell_type": "markdown",
   "metadata": {},
   "source": [
    "# Desafío 1: Clasificación de sentencias dadas ciertas etiquetas"
   ]
  },
  {
   "cell_type": "code",
   "execution_count": 1,
   "metadata": {},
   "outputs": [],
   "source": [
    "from transformers import pipeline"
   ]
  },
  {
   "cell_type": "code",
   "execution_count": 2,
   "metadata": {},
   "outputs": [
    {
     "name": "stderr",
     "output_type": "stream",
     "text": [
      "Device set to use cpu\n"
     ]
    }
   ],
   "source": [
    "classifier = pipeline(\"zero-shot-classification\", model=\"facebook/bart-large-mnli\")"
   ]
  },
  {
   "cell_type": "code",
   "execution_count": 3,
   "metadata": {},
   "outputs": [],
   "source": [
    "labels = [\n",
    "    \"urgent\",\n",
    "    \"artificial intelligence\",\n",
    "    \"computer\",\n",
    "    \"travel\",\n",
    "    \"animal\",\n",
    "    \"fiction\",\n",
    "]"
   ]
  },
  {
   "cell_type": "code",
   "execution_count": 4,
   "metadata": {},
   "outputs": [],
   "source": [
    "sentences = [\n",
    "    \"The axolotl is more than a peculiar amphibian; in its natural environment, it plays an essential role in the ecological stability of the Xochimilco canals.\",\n",
    "    \"Geoffrey Hinton, Yann LeCun and Yoshua Bengio are considered the 'godfathers' of an essential technique in artificial intelligence, called 'deep learning'.\",\n",
    "    \"Greenland is about to open up to adventure-seeking visitors. How many tourists will come is yet to be seen, but the three new airports will bring profound change.\",\n",
    "    \"GitHub Copilot is an AI coding assistant that helps you write code faster and with less effort, allowing you to focus more energy on problem solving and collaboration.\",\n",
    "    \"I have a problem with my laptop that needs to be resolved asap!!\",\n",
    "]"
   ]
  },
  {
   "cell_type": "code",
   "execution_count": 5,
   "metadata": {},
   "outputs": [
    {
     "name": "stdout",
     "output_type": "stream",
     "text": [
      "Sentence: The axolotl is more than a peculiar amphibian; in its natural environment, it plays an essential role in the ecological stability of the Xochimilco canals.\n",
      "Predicted Label: animal\n",
      "Probabilities:\n",
      "animal: 0.8566024899482727\n",
      "urgent: 0.06275951117277145\n",
      "travel: 0.04708606377243996\n",
      "computer: 0.01526649296283722\n",
      "fiction: 0.010338632389903069\n",
      "artificial intelligence: 0.007946851663291454\n",
      "\n",
      "Sentence: Geoffrey Hinton, Yann LeCun and Yoshua Bengio are considered the 'godfathers' of an essential technique in artificial intelligence, called 'deep learning'.\n",
      "Predicted Label: artificial intelligence\n",
      "Probabilities:\n",
      "artificial intelligence: 0.8360878825187683\n",
      "computer: 0.12080805003643036\n",
      "urgent: 0.027138466015458107\n",
      "travel: 0.008088619448244572\n",
      "animal: 0.005151323042809963\n",
      "fiction: 0.002725745551288128\n",
      "\n",
      "Sentence: Greenland is about to open up to adventure-seeking visitors. How many tourists will come is yet to be seen, but the three new airports will bring profound change.\n",
      "Predicted Label: travel\n",
      "Probabilities:\n",
      "travel: 0.8556982278823853\n",
      "urgent: 0.0623725950717926\n",
      "animal: 0.02866119146347046\n",
      "computer: 0.022881943732500076\n",
      "artificial intelligence: 0.01644757390022278\n",
      "fiction: 0.01393844187259674\n",
      "\n",
      "Sentence: GitHub Copilot is an AI coding assistant that helps you write code faster and with less effort, allowing you to focus more energy on problem solving and collaboration.\n",
      "Predicted Label: artificial intelligence\n",
      "Probabilities:\n",
      "artificial intelligence: 0.8889243006706238\n",
      "computer: 0.0946057140827179\n",
      "urgent: 0.006029212381690741\n",
      "animal: 0.005134089384227991\n",
      "fiction: 0.002654447453096509\n",
      "travel: 0.002652156399562955\n",
      "\n",
      "Sentence: I have a problem with my laptop that needs to be resolved asap!!\n",
      "Predicted Label: urgent\n",
      "Probabilities:\n",
      "urgent: 0.5508226156234741\n",
      "computer: 0.4409824311733246\n",
      "travel: 0.0024759038351476192\n",
      "fiction: 0.0022427458316087723\n",
      "animal: 0.0019408139633014798\n",
      "artificial intelligence: 0.0015354639617726207\n",
      "\n"
     ]
    }
   ],
   "source": [
    "for sentence in sentences:\n",
    "    result = classifier(sentence, labels)\n",
    "    print(f\"Sentence: {sentence}\")\n",
    "    print(f\"Predicted Label: {result['labels'][0]}\")\n",
    "    label_score = list(zip(result[\"labels\"], result[\"scores\"]))\n",
    "    print(\"Probabilities:\")\n",
    "    for label, score in label_score:\n",
    "        print(f\"{label}: {score}\")\n",
    "    print()"
   ]
  },
  {
   "cell_type": "code",
   "execution_count": null,
   "metadata": {},
   "outputs": [],
   "source": []
  }
 ],
 "metadata": {
  "kernelspec": {
   "display_name": ".venv",
   "language": "python",
   "name": "python3"
  },
  "language_info": {
   "codemirror_mode": {
    "name": "ipython",
    "version": 3
   },
   "file_extension": ".py",
   "mimetype": "text/x-python",
   "name": "python",
   "nbconvert_exporter": "python",
   "pygments_lexer": "ipython3",
   "version": "3.11.11"
  }
 },
 "nbformat": 4,
 "nbformat_minor": 2
}
